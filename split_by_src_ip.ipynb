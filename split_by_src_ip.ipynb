{
 "cells": [
  {
   "cell_type": "code",
   "execution_count": null,
   "metadata": {},
   "outputs": [],
   "source": [
    "import pandas as pd\n",
    "\n",
    "# === 1️⃣ Завантажуємо CSV ===\n",
    "df = pd.read_csv(\"/Users/max/Desktop/ai_course/aifw3/merged_logs.csv\")\n",
    "\n",
    "# === 2️⃣ Перевіримо, які є унікальні src_ip ===\n",
    "unique_ips = df[\"src_ip\"].unique()\n",
    "print(f\"Знайдено {len(unique_ips)} унікальних IP-адрес\")\n",
    "\n",
    "# === 3️⃣ Створюємо окремі файли ===\n",
    "for ip in unique_ips:\n",
    "    # Заміна символів, щоб ім’я файлу було коректне\n",
    "    safe_ip = ip.replace(\".\", \"_\")\n",
    "    subset = df[df[\"src_ip\"] == ip]\n",
    "    \n",
    "    filename = f\"logs_{safe_ip}.csv\"\n",
    "    subset.to_csv(filename, index=False)\n",
    "    print(f\"✅ Збережено {filename} ({len(subset)} рядків)\")\n"
   ]
  }
 ],
 "metadata": {
  "language_info": {
   "name": "python"
  }
 },
 "nbformat": 4,
 "nbformat_minor": 2
}
