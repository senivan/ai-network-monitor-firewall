{
  "nbformat": 4,
  "nbformat_minor": 0,
  "metadata": {
    "colab": {
      "provenance": [],
      "gpuType": "T4"
    },
    "kernelspec": {
      "name": "python3",
      "display_name": "Python 3"
    },
    "language_info": {
      "name": "python"
    },
    "accelerator": "GPU"
  },
  "cells": [
    {
      "cell_type": "code",
      "execution_count": 43,
      "metadata": {
        "colab": {
          "base_uri": "https://localhost:8080/"
        },
        "id": "_hd2jH4k0nKq",
        "outputId": "7e25b56e-8bd9-4ed4-bc63-d36e1233ec68"
      },
      "outputs": [
        {
          "output_type": "stream",
          "name": "stderr",
          "text": [
            "/tmp/ipython-input-2131121166.py:2: DtypeWarning: Columns (6,7,8,9,16,17,18,19,20,21,23) have mixed types. Specify dtype option on import or set low_memory=False.\n",
            "  df = pd.read_csv(\"logs_10_20_0_105.csv\")\n"
          ]
        }
      ],
      "source": [
        "import pandas as pd\n",
        "df = pd.read_csv(\"logs_10_20_0_105.csv\")\n",
        "unique_domains = df['rrname'].dropna().str.lower().unique()\n",
        "pd.DataFrame(unique_domains, columns=['rrname']).to_csv('unique_domains_105.csv', index=False)\n"
      ]
    },
    {
      "cell_type": "code",
      "source": [
        "import pandas as pd\n",
        "import re\n",
        "\n",
        "# === 1️⃣ Завантажуємо CSV ===\n",
        "df = pd.read_csv('unique_domains_105.csv')  # <-- твій файл\n",
        "if 'category' not in df.columns:\n",
        "    df['category'] = 'Other'  # якщо колонки ще не було\n",
        "\n",
        "\n",
        "# 1️⃣ Витягуємо всі домени, які поки позначені як \"Other\"\n",
        "unknowns = df[df['category'] == 'Other']['rrname'].unique()\n",
        "\n",
        "# 2️⃣ Зберігаємо їх у окремий CSV для перевірки\n",
        "pd.DataFrame(unknowns, columns=['rrname']).to_csv('unlabeled_domains_105.csv', index=False)\n",
        "\n",
        "# 3️⃣ Завантажуємо цей файл\n",
        "df_unlabeled = pd.read_csv('unlabeled_domains_105.csv')\n",
        "\n",
        "# 4️⃣ Визначаємо правила для напівавтоматичного категоризування\n",
        "rules = {\n",
        "    r'finance\\d*\\.example': 'Finance',\n",
        "    r'client\\d*\\.sales\\.example': 'Sales',\n",
        "    r'ds\\d*\\.lab\\.example': 'Research/Lab',\n",
        "    r'devops\\d*\\.internal': 'IT/Infrastructure',\n",
        "    r'hr\\d*\\.example': 'HR',\n",
        "    r'marketing\\d*\\.example': 'Marketing',\n",
        "    r'test\\d*\\.example': 'Testing',\n",
        "    'teams': 'Teams',\n",
        "    'skype': 'Teams',\n",
        "    'microsoft': 'Cloud/Office',\n",
        "    'outlook': 'Email',\n",
        "    'office': 'Email',\n",
        "    'gmail': 'Email',\n",
        "    'google': 'Search',\n",
        "    'gstatic': 'Google Services',\n",
        "    'github': 'Dev',\n",
        "    'gitlab': 'Dev',\n",
        "    'bitbucket': 'Dev',\n",
        "    'pypi': 'Dev',\n",
        "    'python': 'Dev',\n",
        "    'zoom': 'Meetings',\n",
        "    'meet': 'Meetings',\n",
        "    'slack': 'Communication',\n",
        "    'discord': 'Communication',\n",
        "    'linkedin': 'Social',\n",
        "    'facebook': 'Social',\n",
        "    'instagram': 'Social',\n",
        "    'twitter': 'Social',\n",
        "    'tiktok': 'Social',\n",
        "    'youtube': 'Video',\n",
        "    'netflix': 'Video',\n",
        "    'vimeo': 'Video',\n",
        "    'cdn': 'CDN',\n",
        "    'cloudflare': 'CDN',\n",
        "    'akamai': 'CDN',\n",
        "    'aws': 'Cloud',\n",
        "    'azure': 'Cloud',\n",
        "    'gcp': 'Cloud',\n",
        "    'dropbox': 'Storage',\n",
        "    'onedrive': 'Storage',\n",
        "    'ads': 'Ads',\n",
        "    'doubleclick': 'Ads',\n",
        "    'googletag': 'Ads',\n",
        "    'analytics': 'Analytics',\n",
        "}\n",
        "\n",
        "\n",
        "\n",
        "# 5️⃣ Функція для визначення категорії\n",
        "def categorize(domain):\n",
        "    for pattern, category in rules.items():\n",
        "        if re.search(pattern, domain, re.IGNORECASE):\n",
        "            return category\n",
        "    return 'Other'\n",
        "\n",
        "# 6️⃣ Застосовуємо автолейблінг\n",
        "df_unlabeled['category'] = df_unlabeled['rrname'].apply(categorize)\n",
        "\n",
        "# 7️⃣ Зберігаємо результат для ручної перевірки\n",
        "df_unlabeled.to_csv('unlabeled_domains_labeled_105.csv', index=False)\n",
        "\n",
        "print(\"✅ Збережено файл 'unlabeled_domains_labeled_105.csv'. Перевір і за потреби виправ категорії вручну.\")\n"
      ],
      "metadata": {
        "colab": {
          "base_uri": "https://localhost:8080/"
        },
        "id": "sOnFz3qt03_u",
        "outputId": "770fa66c-8a12-4126-d826-2491687e7f71"
      },
      "execution_count": 45,
      "outputs": [
        {
          "output_type": "stream",
          "name": "stdout",
          "text": [
            "✅ Збережено файл 'unlabeled_domains_labeled_105.csv'. Перевір і за потреби виправ категорії вручну.\n"
          ]
        }
      ]
    },
    {
      "cell_type": "code",
      "source": [
        "\n",
        "# Завантаж свої логі\n",
        "df = pd.read_csv('logs_10_20_0_105.csv', parse_dates=['timestamp'])\n",
        "\n",
        "labels = pd.read_csv('unlabeled_domains_labeled_105.csv')\n",
        "df = df.merge(labels, on='rrname', how='left')\n",
        "\n",
        "df['category'] = df['category'].fillna('Other')\n",
        "\n",
        "df['hour'] = df['timestamp'].dt.hour\n",
        "df['dayofweek'] = df['timestamp'].dt.dayofweek\n",
        "\n",
        "user_sequences = (\n",
        "    df.groupby('src_ip')\n",
        "      .apply(lambda x: x.sort_values('timestamp')['category'].tolist())\n",
        ")\n"
      ],
      "metadata": {
        "colab": {
          "base_uri": "https://localhost:8080/"
        },
        "id": "VFHhEW4N06HI",
        "outputId": "868354a0-4672-4e5a-b0b6-194ae70b9956"
      },
      "execution_count": 48,
      "outputs": [
        {
          "output_type": "stream",
          "name": "stderr",
          "text": [
            "/tmp/ipython-input-1959171129.py:2: DtypeWarning: Columns (6,7,8,9,16,17,18,19,20,21,23) have mixed types. Specify dtype option on import or set low_memory=False.\n",
            "  df = pd.read_csv('logs_10_20_0_105.csv', parse_dates=['timestamp'])\n",
            "/tmp/ipython-input-1959171129.py:14: DeprecationWarning: DataFrameGroupBy.apply operated on the grouping columns. This behavior is deprecated, and in a future version of pandas the grouping columns will be excluded from the operation. Either pass `include_groups=False` to exclude the groupings or explicitly select the grouping columns after groupby to silence this warning.\n",
            "  .apply(lambda x: x.sort_values('timestamp')['category'].tolist())\n"
          ]
        }
      ]
    },
    {
      "cell_type": "code",
      "source": [
        "# Припустимо, у тебе є одна велика послідовність категорій\n",
        "seq = user_sequences[0]\n",
        "\n",
        "window_size = 20  # довжина історії, наприклад 20\n",
        "samples = []\n",
        "\n",
        "for i in range(window_size, len(seq)):\n",
        "    samples.append(seq[i - window_size:i + 1])  # 20 попередніх + наступна\n",
        "\n",
        "print(f\"Згенеровано {len(samples)} прикладів\")\n",
        "\n",
        "# Перетворюємо в X, y\n",
        "encoded_sequences = [encoder.transform(s) for s in samples]\n",
        "X = pad_sequences([s[:-1] for s in encoded_sequences], maxlen=window_size)\n",
        "y = [s[-1] for s in encoded_sequences]\n",
        "y = to_categorical(y, num_classes=len(encoder.classes_))\n",
        "\n",
        "print(X.shape, y.shape)\n"
      ],
      "metadata": {
        "colab": {
          "base_uri": "https://localhost:8080/"
        },
        "id": "R9Ma3_z4KJZx",
        "outputId": "5204a77b-9dd0-4cc5-8b57-075c97e7d85b"
      },
      "execution_count": 54,
      "outputs": [
        {
          "output_type": "stream",
          "name": "stdout",
          "text": [
            "Згенеровано 416782 прикладів\n",
            "(416782, 20) (416782, 4)\n"
          ]
        }
      ]
    },
    {
      "cell_type": "code",
      "source": [
        "from keras.callbacks import EarlyStopping\n",
        "\n",
        "early_stop = EarlyStopping(monitor='val_loss', patience=3, restore_best_weights=True)\n",
        "\n",
        "history = model.fit(\n",
        "    X, y,\n",
        "    epochs=50,\n",
        "    batch_size=128,\n",
        "    validation_split=0.1,\n",
        "    callbacks=[early_stop],\n",
        "    verbose=1\n",
        ")\n"
      ],
      "metadata": {
        "colab": {
          "base_uri": "https://localhost:8080/"
        },
        "id": "FqqBX6FAKXsW",
        "outputId": "db69a14a-cd3d-4c8c-ef02-73ccfa699111"
      },
      "execution_count": 55,
      "outputs": [
        {
          "output_type": "stream",
          "name": "stdout",
          "text": [
            "Epoch 1/50\n",
            "\u001b[1m2931/2931\u001b[0m \u001b[32m━━━━━━━━━━━━━━━━━━━━\u001b[0m\u001b[37m\u001b[0m \u001b[1m25s\u001b[0m 8ms/step - accuracy: 0.9017 - loss: 0.3154 - val_accuracy: 0.9635 - val_loss: 0.1895\n",
            "Epoch 2/50\n",
            "\u001b[1m2931/2931\u001b[0m \u001b[32m━━━━━━━━━━━━━━━━━━━━\u001b[0m\u001b[37m\u001b[0m \u001b[1m24s\u001b[0m 8ms/step - accuracy: 0.9370 - loss: 0.2013 - val_accuracy: 0.9616 - val_loss: 0.1922\n",
            "Epoch 3/50\n",
            "\u001b[1m2931/2931\u001b[0m \u001b[32m━━━━━━━━━━━━━━━━━━━━\u001b[0m\u001b[37m\u001b[0m \u001b[1m40s\u001b[0m 8ms/step - accuracy: 0.9372 - loss: 0.1997 - val_accuracy: 0.9627 - val_loss: 0.1785\n",
            "Epoch 4/50\n",
            "\u001b[1m2931/2931\u001b[0m \u001b[32m━━━━━━━━━━━━━━━━━━━━\u001b[0m\u001b[37m\u001b[0m \u001b[1m22s\u001b[0m 8ms/step - accuracy: 0.9374 - loss: 0.1982 - val_accuracy: 0.9631 - val_loss: 0.1807\n",
            "Epoch 5/50\n",
            "\u001b[1m2931/2931\u001b[0m \u001b[32m━━━━━━━━━━━━━━━━━━━━\u001b[0m\u001b[37m\u001b[0m \u001b[1m25s\u001b[0m 8ms/step - accuracy: 0.9376 - loss: 0.1974 - val_accuracy: 0.9635 - val_loss: 0.1802\n",
            "Epoch 6/50\n",
            "\u001b[1m2931/2931\u001b[0m \u001b[32m━━━━━━━━━━━━━━━━━━━━\u001b[0m\u001b[37m\u001b[0m \u001b[1m23s\u001b[0m 8ms/step - accuracy: 0.9377 - loss: 0.1958 - val_accuracy: 0.9626 - val_loss: 0.1897\n"
          ]
        }
      ]
    },
    {
      "cell_type": "code",
      "source": [
        "# Наприклад, хочемо передбачити для користувача з IP\n",
        "target_ip = '10.20.0.15'  # підстав свій\n",
        "\n",
        "# Беремо всі його запити\n",
        "user_data = df[df['src_ip'] == target_ip].sort_values('timestamp')\n",
        "\n",
        "# Беремо тільки категорії\n",
        "seq = user_data['category'].tolist()\n",
        "\n",
        "# Обмежуємо останні max_len (наприклад, 50)\n",
        "seq = seq[-max_len:]\n",
        "\n",
        "seq_encoded = encoder.transform(seq)\n",
        "seq_padded = pad_sequences([seq_encoded], maxlen=max_len)\n",
        "\n",
        "pred = model.predict(seq_padded)\n",
        "pred_idx = np.argmax(pred)\n",
        "pred_category = encoder.inverse_transform([pred_idx])[0]\n",
        "\n",
        "print(f\"Ймовірна наступна категорія для {target_ip}: {pred_category}\")\n",
        "\n",
        "top3_idx = pred[0].argsort()[-3:][::-1]\n",
        "top3_cats = encoder.inverse_transform(top3_idx)\n",
        "top3_probs = pred[0][top3_idx]\n",
        "\n",
        "for cat, prob in zip(top3_cats, top3_probs):\n",
        "    print(f\"{cat}: {prob:.2%}\")\n"
      ],
      "metadata": {
        "colab": {
          "base_uri": "https://localhost:8080/"
        },
        "id": "MWC9kN5xK4A3",
        "outputId": "a068d72e-504f-4078-8a11-c67e976e75ba"
      },
      "execution_count": 56,
      "outputs": [
        {
          "output_type": "stream",
          "name": "stdout",
          "text": [
            "\u001b[1m1/1\u001b[0m \u001b[32m━━━━━━━━━━━━━━━━━━━━\u001b[0m\u001b[37m\u001b[0m \u001b[1m0s\u001b[0m 197ms/step\n",
            "Ймовірна наступна категорія для 10.20.0.15: Other\n",
            "Other: 92.04%\n",
            "Email: 7.92%\n",
            "Dev: 0.04%\n"
          ]
        }
      ]
    },
    {
      "cell_type": "code",
      "source": [
        "df['category'].value_counts()\n"
      ],
      "metadata": {
        "colab": {
          "base_uri": "https://localhost:8080/",
          "height": 241
        },
        "id": "XE8IcuqLHhd2",
        "outputId": "93e6ab5e-d4b6-4835-818e-6d8320093a88"
      },
      "execution_count": 57,
      "outputs": [
        {
          "output_type": "execute_result",
          "data": {
            "text/plain": [
              "category\n",
              "Other    317076\n",
              "CDN       34976\n",
              "Dev       32820\n",
              "Email     31930\n",
              "Name: count, dtype: int64"
            ],
            "text/html": [
              "<div>\n",
              "<style scoped>\n",
              "    .dataframe tbody tr th:only-of-type {\n",
              "        vertical-align: middle;\n",
              "    }\n",
              "\n",
              "    .dataframe tbody tr th {\n",
              "        vertical-align: top;\n",
              "    }\n",
              "\n",
              "    .dataframe thead th {\n",
              "        text-align: right;\n",
              "    }\n",
              "</style>\n",
              "<table border=\"1\" class=\"dataframe\">\n",
              "  <thead>\n",
              "    <tr style=\"text-align: right;\">\n",
              "      <th></th>\n",
              "      <th>count</th>\n",
              "    </tr>\n",
              "    <tr>\n",
              "      <th>category</th>\n",
              "      <th></th>\n",
              "    </tr>\n",
              "  </thead>\n",
              "  <tbody>\n",
              "    <tr>\n",
              "      <th>Other</th>\n",
              "      <td>317076</td>\n",
              "    </tr>\n",
              "    <tr>\n",
              "      <th>CDN</th>\n",
              "      <td>34976</td>\n",
              "    </tr>\n",
              "    <tr>\n",
              "      <th>Dev</th>\n",
              "      <td>32820</td>\n",
              "    </tr>\n",
              "    <tr>\n",
              "      <th>Email</th>\n",
              "      <td>31930</td>\n",
              "    </tr>\n",
              "  </tbody>\n",
              "</table>\n",
              "</div><br><label><b>dtype:</b> int64</label>"
            ]
          },
          "metadata": {},
          "execution_count": 57
        }
      ]
    }
  ]
}